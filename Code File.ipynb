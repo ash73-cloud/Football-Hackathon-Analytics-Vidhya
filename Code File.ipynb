{
 "cells": [
  {
   "cell_type": "markdown",
   "id": "f431eaa9",
   "metadata": {
    "papermill": {
     "duration": 0.012458,
     "end_time": "2022-06-13T04:51:05.082807",
     "exception": false,
     "start_time": "2022-06-13T04:51:05.070349",
     "status": "completed"
    },
    "tags": []
   },
   "source": [
    "# Importing All the Necessary Libraries and Having A Overlook on Data"
   ]
  },
  {
   "cell_type": "code",
   "execution_count": 1,
   "id": "ca0611fe",
   "metadata": {
    "_cell_guid": "b1076dfc-b9ad-4769-8c92-a6c4dae69d19",
    "_uuid": "8f2839f25d086af736a60e9eeb907d3b93b6e0e5",
    "execution": {
     "iopub.execute_input": "2022-06-13T04:51:05.108057Z",
     "iopub.status.busy": "2022-06-13T04:51:05.107412Z",
     "iopub.status.idle": "2022-06-13T04:51:05.139996Z",
     "shell.execute_reply": "2022-06-13T04:51:05.138782Z"
    },
    "papermill": {
     "duration": 0.049463,
     "end_time": "2022-06-13T04:51:05.143701",
     "exception": false,
     "start_time": "2022-06-13T04:51:05.094238",
     "status": "completed"
    },
    "tags": []
   },
   "outputs": [
    {
     "name": "stdout",
     "output_type": "stream",
     "text": [
      "/kaggle/input/sevilla-football/sample_submission_wBWLI0s.csv\n",
      "/kaggle/input/sevilla-football/train_1K0BDt5/train.csv\n",
      "/kaggle/input/sevilla-football/test_kuhCxHY/test.csv\n"
     ]
    }
   ],
   "source": [
    "# This Python 3 environment comes with many helpful analytics libraries installed\n",
    "# It is defined by the kaggle/python Docker image: https://github.com/kaggle/docker-python\n",
    "# For example, here's several helpful packages to load\n",
    "\n",
    "import numpy as np # linear algebra\n",
    "import pandas as pd # data processing, CSV file I/O (e.g. pd.read_csv)\n",
    "\n",
    "# Input data files are available in the read-only \"../input/\" directory\n",
    "# For example, running this (by clicking run or pressing Shift+Enter) will list all files under the input directory\n",
    "\n",
    "import os\n",
    "for dirname, _, filenames in os.walk('/kaggle/input'):\n",
    "    for filename in filenames:\n",
    "        print(os.path.join(dirname, filename))\n",
    "\n",
    "# You can write up to 20GB to the current directory (/kaggle/working/) that gets preserved as output when you create a version using \"Save & Run All\" \n",
    "# You can also write temporary files to /kaggle/temp/, but they won't be saved outside of the current session"
   ]
  },
  {
   "cell_type": "code",
   "execution_count": 2,
   "id": "c3617d2c",
   "metadata": {
    "execution": {
     "iopub.execute_input": "2022-06-13T04:51:05.168944Z",
     "iopub.status.busy": "2022-06-13T04:51:05.168319Z",
     "iopub.status.idle": "2022-06-13T04:51:05.173234Z",
     "shell.execute_reply": "2022-06-13T04:51:05.172105Z"
    },
    "papermill": {
     "duration": 0.019421,
     "end_time": "2022-06-13T04:51:05.175205",
     "exception": false,
     "start_time": "2022-06-13T04:51:05.155784",
     "status": "completed"
    },
    "tags": []
   },
   "outputs": [],
   "source": [
    "train_path = '../input/sevilla-football/train_1K0BDt5/train.csv'\n",
    "test_path = '../input/sevilla-football/test_kuhCxHY/test.csv'\n",
    "sub_path = '../input/sevilla-football/sample_submission_wBWLI0s.csv'"
   ]
  },
  {
   "cell_type": "code",
   "execution_count": 3,
   "id": "3be7f97f",
   "metadata": {
    "execution": {
     "iopub.execute_input": "2022-06-13T04:51:05.198832Z",
     "iopub.status.busy": "2022-06-13T04:51:05.198440Z",
     "iopub.status.idle": "2022-06-13T04:51:12.164231Z",
     "shell.execute_reply": "2022-06-13T04:51:12.163262Z"
    },
    "papermill": {
     "duration": 6.980556,
     "end_time": "2022-06-13T04:51:12.166920",
     "exception": false,
     "start_time": "2022-06-13T04:51:05.186364",
     "status": "completed"
    },
    "tags": []
   },
   "outputs": [],
   "source": [
    "df_train = pd.read_csv(train_path)\n",
    "df_test = pd.read_csv(test_path)\n",
    "df_sub = pd.read_csv(sub_path)"
   ]
  },
  {
   "cell_type": "markdown",
   "id": "9c7f5324",
   "metadata": {
    "papermill": {
     "duration": 0.010845,
     "end_time": "2022-06-13T04:51:12.188856",
     "exception": false,
     "start_time": "2022-06-13T04:51:12.178011",
     "status": "completed"
    },
    "tags": []
   },
   "source": [
    "### Dropping Row Id and Rating Num before combining train and test data to do preprocessing at one go "
   ]
  },
  {
   "cell_type": "code",
   "execution_count": 4,
   "id": "7b73bece",
   "metadata": {
    "execution": {
     "iopub.execute_input": "2022-06-13T04:51:12.213123Z",
     "iopub.status.busy": "2022-06-13T04:51:12.212724Z",
     "iopub.status.idle": "2022-06-13T04:51:12.491304Z",
     "shell.execute_reply": "2022-06-13T04:51:12.490320Z"
    },
    "papermill": {
     "duration": 0.29332,
     "end_time": "2022-06-13T04:51:12.493416",
     "exception": false,
     "start_time": "2022-06-13T04:51:12.200096",
     "status": "completed"
    },
    "tags": []
   },
   "outputs": [
    {
     "data": {
      "text/html": [
       "<div>\n",
       "<style scoped>\n",
       "    .dataframe tbody tr th:only-of-type {\n",
       "        vertical-align: middle;\n",
       "    }\n",
       "\n",
       "    .dataframe tbody tr th {\n",
       "        vertical-align: top;\n",
       "    }\n",
       "\n",
       "    .dataframe thead th {\n",
       "        text-align: right;\n",
       "    }\n",
       "</style>\n",
       "<table border=\"1\" class=\"dataframe\">\n",
       "  <thead>\n",
       "    <tr style=\"text-align: right;\">\n",
       "      <th></th>\n",
       "      <th>scout_id</th>\n",
       "      <th>winner</th>\n",
       "      <th>team</th>\n",
       "      <th>competitionId</th>\n",
       "      <th>player_position_1</th>\n",
       "      <th>player_position_2</th>\n",
       "      <th>player_height</th>\n",
       "      <th>player_weight</th>\n",
       "      <th>player_general_var_0</th>\n",
       "      <th>player_general_var_1</th>\n",
       "      <th>...</th>\n",
       "      <th>team2_offensive_derived_var_11</th>\n",
       "      <th>team2_offensive_derived_var_12</th>\n",
       "      <th>team2_offensive_derived_var_13</th>\n",
       "      <th>team2_offensive_derived_var_14</th>\n",
       "      <th>team2_defensive_derived_var_15</th>\n",
       "      <th>team2_offensive_derived_var_16</th>\n",
       "      <th>team2_defensive_derived_var_17</th>\n",
       "      <th>team2_offensive_derived_var_18</th>\n",
       "      <th>team2_offensive_derived_var_19</th>\n",
       "      <th>row_id</th>\n",
       "    </tr>\n",
       "  </thead>\n",
       "  <tbody>\n",
       "    <tr>\n",
       "      <th>0</th>\n",
       "      <td>13</td>\n",
       "      <td>winner</td>\n",
       "      <td>team1</td>\n",
       "      <td>8.0</td>\n",
       "      <td>7.0</td>\n",
       "      <td>7.0</td>\n",
       "      <td>0.317073</td>\n",
       "      <td>0.48</td>\n",
       "      <td>0.0</td>\n",
       "      <td>0</td>\n",
       "      <td>...</td>\n",
       "      <td>0.131548</td>\n",
       "      <td>0.097131</td>\n",
       "      <td>0.600944</td>\n",
       "      <td>0.338892</td>\n",
       "      <td>0.347980</td>\n",
       "      <td>0.034157</td>\n",
       "      <td>0.288962</td>\n",
       "      <td>0.310727</td>\n",
       "      <td>0.204925</td>\n",
       "      <td>NaN</td>\n",
       "    </tr>\n",
       "    <tr>\n",
       "      <th>1</th>\n",
       "      <td>16</td>\n",
       "      <td>loser</td>\n",
       "      <td>team2</td>\n",
       "      <td>8.0</td>\n",
       "      <td>3.0</td>\n",
       "      <td>9.0</td>\n",
       "      <td>0.463415</td>\n",
       "      <td>0.42</td>\n",
       "      <td>0.0</td>\n",
       "      <td>0</td>\n",
       "      <td>...</td>\n",
       "      <td>0.173697</td>\n",
       "      <td>0.272801</td>\n",
       "      <td>0.605659</td>\n",
       "      <td>0.526761</td>\n",
       "      <td>0.468976</td>\n",
       "      <td>0.054034</td>\n",
       "      <td>0.334962</td>\n",
       "      <td>0.380073</td>\n",
       "      <td>0.295392</td>\n",
       "      <td>NaN</td>\n",
       "    </tr>\n",
       "    <tr>\n",
       "      <th>2</th>\n",
       "      <td>4</td>\n",
       "      <td>loser</td>\n",
       "      <td>team1</td>\n",
       "      <td>5.0</td>\n",
       "      <td>11.0</td>\n",
       "      <td>11.0</td>\n",
       "      <td>0.682927</td>\n",
       "      <td>0.44</td>\n",
       "      <td>0.0</td>\n",
       "      <td>0</td>\n",
       "      <td>...</td>\n",
       "      <td>0.250756</td>\n",
       "      <td>0.212631</td>\n",
       "      <td>0.558833</td>\n",
       "      <td>0.686523</td>\n",
       "      <td>0.441749</td>\n",
       "      <td>0.219441</td>\n",
       "      <td>0.414288</td>\n",
       "      <td>0.570757</td>\n",
       "      <td>0.437500</td>\n",
       "      <td>NaN</td>\n",
       "    </tr>\n",
       "    <tr>\n",
       "      <th>3</th>\n",
       "      <td>13</td>\n",
       "      <td>loser</td>\n",
       "      <td>team2</td>\n",
       "      <td>4.0</td>\n",
       "      <td>17.0</td>\n",
       "      <td>17.0</td>\n",
       "      <td>0.682927</td>\n",
       "      <td>0.58</td>\n",
       "      <td>0.0</td>\n",
       "      <td>0</td>\n",
       "      <td>...</td>\n",
       "      <td>0.155969</td>\n",
       "      <td>0.206503</td>\n",
       "      <td>0.533002</td>\n",
       "      <td>0.373959</td>\n",
       "      <td>0.527733</td>\n",
       "      <td>0.095201</td>\n",
       "      <td>0.423040</td>\n",
       "      <td>0.330754</td>\n",
       "      <td>0.235558</td>\n",
       "      <td>NaN</td>\n",
       "    </tr>\n",
       "    <tr>\n",
       "      <th>4</th>\n",
       "      <td>11</td>\n",
       "      <td>draw</td>\n",
       "      <td>team1</td>\n",
       "      <td>5.0</td>\n",
       "      <td>10.0</td>\n",
       "      <td>10.0</td>\n",
       "      <td>0.731707</td>\n",
       "      <td>0.70</td>\n",
       "      <td>0.0</td>\n",
       "      <td>0</td>\n",
       "      <td>...</td>\n",
       "      <td>0.199050</td>\n",
       "      <td>0.134002</td>\n",
       "      <td>0.688773</td>\n",
       "      <td>0.681724</td>\n",
       "      <td>0.733625</td>\n",
       "      <td>0.128719</td>\n",
       "      <td>0.448360</td>\n",
       "      <td>0.444946</td>\n",
       "      <td>0.312500</td>\n",
       "      <td>NaN</td>\n",
       "    </tr>\n",
       "    <tr>\n",
       "      <th>...</th>\n",
       "      <td>...</td>\n",
       "      <td>...</td>\n",
       "      <td>...</td>\n",
       "      <td>...</td>\n",
       "      <td>...</td>\n",
       "      <td>...</td>\n",
       "      <td>...</td>\n",
       "      <td>...</td>\n",
       "      <td>...</td>\n",
       "      <td>...</td>\n",
       "      <td>...</td>\n",
       "      <td>...</td>\n",
       "      <td>...</td>\n",
       "      <td>...</td>\n",
       "      <td>...</td>\n",
       "      <td>...</td>\n",
       "      <td>...</td>\n",
       "      <td>...</td>\n",
       "      <td>...</td>\n",
       "      <td>...</td>\n",
       "      <td>...</td>\n",
       "    </tr>\n",
       "    <tr>\n",
       "      <th>8769</th>\n",
       "      <td>15</td>\n",
       "      <td>loser</td>\n",
       "      <td>team1</td>\n",
       "      <td>7.0</td>\n",
       "      <td>11.0</td>\n",
       "      <td>11.0</td>\n",
       "      <td>0.463415</td>\n",
       "      <td>0.60</td>\n",
       "      <td>0.0</td>\n",
       "      <td>0</td>\n",
       "      <td>...</td>\n",
       "      <td>0.290421</td>\n",
       "      <td>0.342837</td>\n",
       "      <td>0.572133</td>\n",
       "      <td>0.721060</td>\n",
       "      <td>0.683173</td>\n",
       "      <td>0.341016</td>\n",
       "      <td>0.400924</td>\n",
       "      <td>0.554274</td>\n",
       "      <td>0.275819</td>\n",
       "      <td>21259.0</td>\n",
       "    </tr>\n",
       "    <tr>\n",
       "      <th>8770</th>\n",
       "      <td>2</td>\n",
       "      <td>draw</td>\n",
       "      <td>team1</td>\n",
       "      <td>4.0</td>\n",
       "      <td>16.0</td>\n",
       "      <td>16.0</td>\n",
       "      <td>0.341463</td>\n",
       "      <td>0.40</td>\n",
       "      <td>0.2</td>\n",
       "      <td>0</td>\n",
       "      <td>...</td>\n",
       "      <td>0.156339</td>\n",
       "      <td>0.173252</td>\n",
       "      <td>0.803287</td>\n",
       "      <td>0.449554</td>\n",
       "      <td>0.443569</td>\n",
       "      <td>0.087641</td>\n",
       "      <td>0.423432</td>\n",
       "      <td>0.435869</td>\n",
       "      <td>0.141724</td>\n",
       "      <td>9371.0</td>\n",
       "    </tr>\n",
       "    <tr>\n",
       "      <th>8771</th>\n",
       "      <td>2</td>\n",
       "      <td>loser</td>\n",
       "      <td>team2</td>\n",
       "      <td>4.0</td>\n",
       "      <td>1.0</td>\n",
       "      <td>1.0</td>\n",
       "      <td>0.439024</td>\n",
       "      <td>0.36</td>\n",
       "      <td>0.0</td>\n",
       "      <td>0</td>\n",
       "      <td>...</td>\n",
       "      <td>0.182449</td>\n",
       "      <td>0.306235</td>\n",
       "      <td>0.591016</td>\n",
       "      <td>0.484777</td>\n",
       "      <td>0.804573</td>\n",
       "      <td>0.094133</td>\n",
       "      <td>0.250106</td>\n",
       "      <td>0.358223</td>\n",
       "      <td>0.376893</td>\n",
       "      <td>23226.0</td>\n",
       "    </tr>\n",
       "    <tr>\n",
       "      <th>8772</th>\n",
       "      <td>11</td>\n",
       "      <td>winner</td>\n",
       "      <td>team1</td>\n",
       "      <td>10.0</td>\n",
       "      <td>1.0</td>\n",
       "      <td>1.0</td>\n",
       "      <td>0.463415</td>\n",
       "      <td>0.54</td>\n",
       "      <td>0.0</td>\n",
       "      <td>0</td>\n",
       "      <td>...</td>\n",
       "      <td>0.141524</td>\n",
       "      <td>0.230742</td>\n",
       "      <td>0.609988</td>\n",
       "      <td>0.356299</td>\n",
       "      <td>0.334398</td>\n",
       "      <td>0.045464</td>\n",
       "      <td>0.429783</td>\n",
       "      <td>0.503833</td>\n",
       "      <td>0.091779</td>\n",
       "      <td>26623.0</td>\n",
       "    </tr>\n",
       "    <tr>\n",
       "      <th>8773</th>\n",
       "      <td>3</td>\n",
       "      <td>winner</td>\n",
       "      <td>team1</td>\n",
       "      <td>4.0</td>\n",
       "      <td>3.0</td>\n",
       "      <td>3.0</td>\n",
       "      <td>0.560976</td>\n",
       "      <td>0.48</td>\n",
       "      <td>0.0</td>\n",
       "      <td>0</td>\n",
       "      <td>...</td>\n",
       "      <td>0.174473</td>\n",
       "      <td>0.120435</td>\n",
       "      <td>0.764821</td>\n",
       "      <td>0.540289</td>\n",
       "      <td>0.492857</td>\n",
       "      <td>0.113514</td>\n",
       "      <td>0.463891</td>\n",
       "      <td>0.338573</td>\n",
       "      <td>0.482798</td>\n",
       "      <td>13814.0</td>\n",
       "    </tr>\n",
       "  </tbody>\n",
       "</table>\n",
       "<p>29227 rows × 799 columns</p>\n",
       "</div>"
      ],
      "text/plain": [
       "      scout_id  winner   team  competitionId  player_position_1  \\\n",
       "0           13  winner  team1            8.0                7.0   \n",
       "1           16   loser  team2            8.0                3.0   \n",
       "2            4   loser  team1            5.0               11.0   \n",
       "3           13   loser  team2            4.0               17.0   \n",
       "4           11    draw  team1            5.0               10.0   \n",
       "...        ...     ...    ...            ...                ...   \n",
       "8769        15   loser  team1            7.0               11.0   \n",
       "8770         2    draw  team1            4.0               16.0   \n",
       "8771         2   loser  team2            4.0                1.0   \n",
       "8772        11  winner  team1           10.0                1.0   \n",
       "8773         3  winner  team1            4.0                3.0   \n",
       "\n",
       "      player_position_2  player_height  player_weight  player_general_var_0  \\\n",
       "0                   7.0       0.317073           0.48                   0.0   \n",
       "1                   9.0       0.463415           0.42                   0.0   \n",
       "2                  11.0       0.682927           0.44                   0.0   \n",
       "3                  17.0       0.682927           0.58                   0.0   \n",
       "4                  10.0       0.731707           0.70                   0.0   \n",
       "...                 ...            ...            ...                   ...   \n",
       "8769               11.0       0.463415           0.60                   0.0   \n",
       "8770               16.0       0.341463           0.40                   0.2   \n",
       "8771                1.0       0.439024           0.36                   0.0   \n",
       "8772                1.0       0.463415           0.54                   0.0   \n",
       "8773                3.0       0.560976           0.48                   0.0   \n",
       "\n",
       "      player_general_var_1  ...  team2_offensive_derived_var_11  \\\n",
       "0                        0  ...                        0.131548   \n",
       "1                        0  ...                        0.173697   \n",
       "2                        0  ...                        0.250756   \n",
       "3                        0  ...                        0.155969   \n",
       "4                        0  ...                        0.199050   \n",
       "...                    ...  ...                             ...   \n",
       "8769                     0  ...                        0.290421   \n",
       "8770                     0  ...                        0.156339   \n",
       "8771                     0  ...                        0.182449   \n",
       "8772                     0  ...                        0.141524   \n",
       "8773                     0  ...                        0.174473   \n",
       "\n",
       "      team2_offensive_derived_var_12  team2_offensive_derived_var_13  \\\n",
       "0                           0.097131                        0.600944   \n",
       "1                           0.272801                        0.605659   \n",
       "2                           0.212631                        0.558833   \n",
       "3                           0.206503                        0.533002   \n",
       "4                           0.134002                        0.688773   \n",
       "...                              ...                             ...   \n",
       "8769                        0.342837                        0.572133   \n",
       "8770                        0.173252                        0.803287   \n",
       "8771                        0.306235                        0.591016   \n",
       "8772                        0.230742                        0.609988   \n",
       "8773                        0.120435                        0.764821   \n",
       "\n",
       "      team2_offensive_derived_var_14  team2_defensive_derived_var_15  \\\n",
       "0                           0.338892                        0.347980   \n",
       "1                           0.526761                        0.468976   \n",
       "2                           0.686523                        0.441749   \n",
       "3                           0.373959                        0.527733   \n",
       "4                           0.681724                        0.733625   \n",
       "...                              ...                             ...   \n",
       "8769                        0.721060                        0.683173   \n",
       "8770                        0.449554                        0.443569   \n",
       "8771                        0.484777                        0.804573   \n",
       "8772                        0.356299                        0.334398   \n",
       "8773                        0.540289                        0.492857   \n",
       "\n",
       "      team2_offensive_derived_var_16  team2_defensive_derived_var_17  \\\n",
       "0                           0.034157                        0.288962   \n",
       "1                           0.054034                        0.334962   \n",
       "2                           0.219441                        0.414288   \n",
       "3                           0.095201                        0.423040   \n",
       "4                           0.128719                        0.448360   \n",
       "...                              ...                             ...   \n",
       "8769                        0.341016                        0.400924   \n",
       "8770                        0.087641                        0.423432   \n",
       "8771                        0.094133                        0.250106   \n",
       "8772                        0.045464                        0.429783   \n",
       "8773                        0.113514                        0.463891   \n",
       "\n",
       "      team2_offensive_derived_var_18  team2_offensive_derived_var_19   row_id  \n",
       "0                           0.310727                        0.204925      NaN  \n",
       "1                           0.380073                        0.295392      NaN  \n",
       "2                           0.570757                        0.437500      NaN  \n",
       "3                           0.330754                        0.235558      NaN  \n",
       "4                           0.444946                        0.312500      NaN  \n",
       "...                              ...                             ...      ...  \n",
       "8769                        0.554274                        0.275819  21259.0  \n",
       "8770                        0.435869                        0.141724   9371.0  \n",
       "8771                        0.358223                        0.376893  23226.0  \n",
       "8772                        0.503833                        0.091779  26623.0  \n",
       "8773                        0.338573                        0.482798  13814.0  \n",
       "\n",
       "[29227 rows x 799 columns]"
      ]
     },
     "execution_count": 4,
     "metadata": {},
     "output_type": "execute_result"
    }
   ],
   "source": [
    "df_combo = pd.concat([df_train.drop(['rating_num','row_id'],axis=1),df_test],ignore_index = False)\n",
    "df_combo"
   ]
  },
  {
   "cell_type": "markdown",
   "id": "e896d78f",
   "metadata": {
    "papermill": {
     "duration": 0.011625,
     "end_time": "2022-06-13T04:51:12.516855",
     "exception": false,
     "start_time": "2022-06-13T04:51:12.505230",
     "status": "completed"
    },
    "tags": []
   },
   "source": [
    "# DATA PRE-PROCESSING "
   ]
  },
  {
   "cell_type": "markdown",
   "id": "182abd1f",
   "metadata": {
    "papermill": {
     "duration": 0.011197,
     "end_time": "2022-06-13T04:51:12.539464",
     "exception": false,
     "start_time": "2022-06-13T04:51:12.528267",
     "status": "completed"
    },
    "tags": []
   },
   "source": [
    "### We have dropped all the columns which have 100% NaN Values"
   ]
  },
  {
   "cell_type": "code",
   "execution_count": 5,
   "id": "eace73ee",
   "metadata": {
    "execution": {
     "iopub.execute_input": "2022-06-13T04:51:12.564910Z",
     "iopub.status.busy": "2022-06-13T04:51:12.563998Z",
     "iopub.status.idle": "2022-06-13T04:51:14.455999Z",
     "shell.execute_reply": "2022-06-13T04:51:14.455016Z"
    },
    "papermill": {
     "duration": 1.907162,
     "end_time": "2022-06-13T04:51:14.458357",
     "exception": false,
     "start_time": "2022-06-13T04:51:12.551195",
     "status": "completed"
    },
    "tags": []
   },
   "outputs": [],
   "source": [
    "for column in df_combo.select_dtypes('float64').columns.to_list():\n",
    "    if df_combo[column].isnull().sum()/len(df_combo) == 1:\n",
    "        df_combo = df_combo.drop(column,axis=1)"
   ]
  },
  {
   "cell_type": "markdown",
   "id": "38d04ab0",
   "metadata": {
    "papermill": {
     "duration": 0.011545,
     "end_time": "2022-06-13T04:51:14.481658",
     "exception": false,
     "start_time": "2022-06-13T04:51:14.470113",
     "status": "completed"
    },
    "tags": []
   },
   "source": [
    "### We have adopted simple mean value imputation"
   ]
  },
  {
   "cell_type": "code",
   "execution_count": 6,
   "id": "445e5f79",
   "metadata": {
    "execution": {
     "iopub.execute_input": "2022-06-13T04:51:14.507966Z",
     "iopub.status.busy": "2022-06-13T04:51:14.507163Z",
     "iopub.status.idle": "2022-06-13T04:51:15.226259Z",
     "shell.execute_reply": "2022-06-13T04:51:15.225146Z"
    },
    "papermill": {
     "duration": 0.734709,
     "end_time": "2022-06-13T04:51:15.228538",
     "exception": false,
     "start_time": "2022-06-13T04:51:14.493829",
     "status": "completed"
    },
    "tags": []
   },
   "outputs": [],
   "source": [
    "for column in df_combo.select_dtypes('float64').columns.to_list():\n",
    "    if df_combo[column].isnull().sum() != 0:\n",
    "        df_combo[column] = df_combo[column].fillna(df_combo[column].mean())"
   ]
  },
  {
   "cell_type": "markdown",
   "id": "04656fde",
   "metadata": {
    "papermill": {
     "duration": 0.014055,
     "end_time": "2022-06-13T04:51:15.254357",
     "exception": false,
     "start_time": "2022-06-13T04:51:15.240302",
     "status": "completed"
    },
    "tags": []
   },
   "source": [
    "### From Here on we have applied Quantile Transformer on selected few columns which mainly come under the group of 'Derived' and 'Ratio' Columns to make their distribution normal which would be good for modelling"
   ]
  },
  {
   "cell_type": "code",
   "execution_count": 7,
   "id": "4a1f63da",
   "metadata": {
    "execution": {
     "iopub.execute_input": "2022-06-13T04:51:15.279971Z",
     "iopub.status.busy": "2022-06-13T04:51:15.279526Z",
     "iopub.status.idle": "2022-06-13T04:51:16.359186Z",
     "shell.execute_reply": "2022-06-13T04:51:16.358017Z"
    },
    "papermill": {
     "duration": 1.095358,
     "end_time": "2022-06-13T04:51:16.361635",
     "exception": false,
     "start_time": "2022-06-13T04:51:15.266277",
     "status": "completed"
    },
    "tags": []
   },
   "outputs": [],
   "source": [
    "from sklearn.preprocessing import QuantileTransformer\n",
    "l1 = [x for x in df_combo.columns.to_list() if x.startswith('player_general_var')]\n",
    "for column in l1:\n",
    "    qt1 = QuantileTransformer(output_distribution = 'normal')\n",
    "    df_combo[column] = qt1.fit_transform(df_combo[column].values.reshape(-1,1))\n"
   ]
  },
  {
   "cell_type": "code",
   "execution_count": 8,
   "id": "2b020345",
   "metadata": {
    "execution": {
     "iopub.execute_input": "2022-06-13T04:51:16.386958Z",
     "iopub.status.busy": "2022-06-13T04:51:16.386540Z",
     "iopub.status.idle": "2022-06-13T04:51:16.426178Z",
     "shell.execute_reply": "2022-06-13T04:51:16.425415Z"
    },
    "papermill": {
     "duration": 0.05502,
     "end_time": "2022-06-13T04:51:16.428501",
     "exception": false,
     "start_time": "2022-06-13T04:51:16.373481",
     "status": "completed"
    },
    "tags": []
   },
   "outputs": [],
   "source": [
    "from sklearn.preprocessing import QuantileTransformer\n",
    "l1 = [x for x in df_combo.columns.to_list() if x.startswith('player_general_derived_var')]\n",
    "for column in l1:\n",
    "    qt2 = QuantileTransformer(output_distribution = 'normal')\n",
    "    df_combo[column] = qt2.fit_transform(df_combo[column].values.reshape(-1,1))\n"
   ]
  },
  {
   "cell_type": "code",
   "execution_count": 9,
   "id": "ba518b7b",
   "metadata": {
    "execution": {
     "iopub.execute_input": "2022-06-13T04:51:16.455328Z",
     "iopub.status.busy": "2022-06-13T04:51:16.454439Z",
     "iopub.status.idle": "2022-06-13T04:51:16.552917Z",
     "shell.execute_reply": "2022-06-13T04:51:16.552215Z"
    },
    "papermill": {
     "duration": 0.113727,
     "end_time": "2022-06-13T04:51:16.555144",
     "exception": false,
     "start_time": "2022-06-13T04:51:16.441417",
     "status": "completed"
    },
    "tags": []
   },
   "outputs": [],
   "source": [
    "from sklearn.preprocessing import QuantileTransformer\n",
    "l1 = [x for x in df_combo.columns.to_list() if x.startswith('player_defensive_ratio_var')]\n",
    "for column in l1:\n",
    "    qt3 = QuantileTransformer(output_distribution = 'normal')\n",
    "    df_combo[column] = qt3.fit_transform(df_combo[column].values.reshape(-1,1))\n"
   ]
  },
  {
   "cell_type": "code",
   "execution_count": 10,
   "id": "04feacc3",
   "metadata": {
    "execution": {
     "iopub.execute_input": "2022-06-13T04:51:16.581124Z",
     "iopub.status.busy": "2022-06-13T04:51:16.580483Z",
     "iopub.status.idle": "2022-06-13T04:51:16.941984Z",
     "shell.execute_reply": "2022-06-13T04:51:16.941183Z"
    },
    "papermill": {
     "duration": 0.377253,
     "end_time": "2022-06-13T04:51:16.944284",
     "exception": false,
     "start_time": "2022-06-13T04:51:16.567031",
     "status": "completed"
    },
    "tags": []
   },
   "outputs": [],
   "source": [
    "from sklearn.preprocessing import QuantileTransformer\n",
    "l1 = [x for x in df_combo.columns.to_list() if x.startswith('player_defensive_derived_var')]\n",
    "for column in l1:\n",
    "    qt4 = QuantileTransformer(output_distribution = 'normal')\n",
    "    df_combo[column] = qt4.fit_transform(df_combo[column].values.reshape(-1,1))\n"
   ]
  },
  {
   "cell_type": "code",
   "execution_count": 11,
   "id": "88e92451",
   "metadata": {
    "execution": {
     "iopub.execute_input": "2022-06-13T04:51:16.970620Z",
     "iopub.status.busy": "2022-06-13T04:51:16.970018Z",
     "iopub.status.idle": "2022-06-13T04:51:17.347546Z",
     "shell.execute_reply": "2022-06-13T04:51:17.346837Z"
    },
    "papermill": {
     "duration": 0.3938,
     "end_time": "2022-06-13T04:51:17.349934",
     "exception": false,
     "start_time": "2022-06-13T04:51:16.956134",
     "status": "completed"
    },
    "tags": []
   },
   "outputs": [],
   "source": [
    "from sklearn.preprocessing import QuantileTransformer\n",
    "l1 = [x for x in df_combo.columns.to_list() if x.startswith('player_offensive_derived_var')]\n",
    "for column in l1:\n",
    "    qt5 = QuantileTransformer(output_distribution = 'normal')\n",
    "    df_combo[column] = qt5.fit_transform(df_combo[column].values.reshape(-1,1))\n"
   ]
  },
  {
   "cell_type": "code",
   "execution_count": 12,
   "id": "5968ded4",
   "metadata": {
    "execution": {
     "iopub.execute_input": "2022-06-13T04:51:17.376674Z",
     "iopub.status.busy": "2022-06-13T04:51:17.376023Z",
     "iopub.status.idle": "2022-06-13T04:51:17.554464Z",
     "shell.execute_reply": "2022-06-13T04:51:17.553763Z"
    },
    "papermill": {
     "duration": 0.194138,
     "end_time": "2022-06-13T04:51:17.556690",
     "exception": false,
     "start_time": "2022-06-13T04:51:17.362552",
     "status": "completed"
    },
    "tags": []
   },
   "outputs": [],
   "source": [
    "from sklearn.preprocessing import QuantileTransformer\n",
    "l1 = [x for x in df_combo.columns.to_list() if x.startswith('player_offensive_ratio_var')]\n",
    "for column in l1:\n",
    "    qt5 = QuantileTransformer(output_distribution = 'normal')\n",
    "    df_combo[column] = qt5.fit_transform(df_combo[column].values.reshape(-1,1))\n"
   ]
  },
  {
   "cell_type": "code",
   "execution_count": 13,
   "id": "fb7954c8",
   "metadata": {
    "execution": {
     "iopub.execute_input": "2022-06-13T04:51:17.581696Z",
     "iopub.status.busy": "2022-06-13T04:51:17.581083Z",
     "iopub.status.idle": "2022-06-13T04:51:17.641417Z",
     "shell.execute_reply": "2022-06-13T04:51:17.640698Z"
    },
    "papermill": {
     "duration": 0.07535,
     "end_time": "2022-06-13T04:51:17.643611",
     "exception": false,
     "start_time": "2022-06-13T04:51:17.568261",
     "status": "completed"
    },
    "tags": []
   },
   "outputs": [],
   "source": [
    "from sklearn.preprocessing import QuantileTransformer\n",
    "l1 = [x for x in df_combo.columns.to_list() if x.startswith('team1_offensive_ratio_var')]\n",
    "for column in l1:\n",
    "    qt6 = QuantileTransformer(output_distribution = 'normal')\n",
    "    df_combo[column] = qt6.fit_transform(df_combo[column].values.reshape(-1,1))\n"
   ]
  },
  {
   "cell_type": "code",
   "execution_count": 14,
   "id": "bab6a4b9",
   "metadata": {
    "execution": {
     "iopub.execute_input": "2022-06-13T04:51:17.668613Z",
     "iopub.status.busy": "2022-06-13T04:51:17.668158Z",
     "iopub.status.idle": "2022-06-13T04:51:17.801392Z",
     "shell.execute_reply": "2022-06-13T04:51:17.800619Z"
    },
    "papermill": {
     "duration": 0.148361,
     "end_time": "2022-06-13T04:51:17.803653",
     "exception": false,
     "start_time": "2022-06-13T04:51:17.655292",
     "status": "completed"
    },
    "tags": []
   },
   "outputs": [],
   "source": [
    "from sklearn.preprocessing import QuantileTransformer\n",
    "l1 = [x for x in df_combo.columns.to_list() if x.startswith('team1_offensive_derived_var')]\n",
    "for column in l1:\n",
    "    qt7 = QuantileTransformer(output_distribution = 'normal')\n",
    "    df_combo[column] = qt7.fit_transform(df_combo[column].values.reshape(-1,1))\n"
   ]
  },
  {
   "cell_type": "code",
   "execution_count": 15,
   "id": "3ebe9195",
   "metadata": {
    "execution": {
     "iopub.execute_input": "2022-06-13T04:51:17.828498Z",
     "iopub.status.busy": "2022-06-13T04:51:17.828064Z",
     "iopub.status.idle": "2022-06-13T04:51:17.889351Z",
     "shell.execute_reply": "2022-06-13T04:51:17.888316Z"
    },
    "papermill": {
     "duration": 0.077054,
     "end_time": "2022-06-13T04:51:17.892333",
     "exception": false,
     "start_time": "2022-06-13T04:51:17.815279",
     "status": "completed"
    },
    "tags": []
   },
   "outputs": [],
   "source": [
    "from sklearn.preprocessing import QuantileTransformer\n",
    "l1 = [x for x in df_combo.columns.to_list() if x.startswith('team2_offensive_ratio_var')]\n",
    "for column in l1:\n",
    "    qt8 = QuantileTransformer(output_distribution = 'normal')\n",
    "    df_combo[column] = qt8.fit_transform(df_combo[column].values.reshape(-1,1))\n"
   ]
  },
  {
   "cell_type": "code",
   "execution_count": 16,
   "id": "1fe0fdd8",
   "metadata": {
    "execution": {
     "iopub.execute_input": "2022-06-13T04:51:17.917398Z",
     "iopub.status.busy": "2022-06-13T04:51:17.916864Z",
     "iopub.status.idle": "2022-06-13T04:51:18.049833Z",
     "shell.execute_reply": "2022-06-13T04:51:18.048833Z"
    },
    "papermill": {
     "duration": 0.148413,
     "end_time": "2022-06-13T04:51:18.052360",
     "exception": false,
     "start_time": "2022-06-13T04:51:17.903947",
     "status": "completed"
    },
    "tags": []
   },
   "outputs": [],
   "source": [
    "from sklearn.preprocessing import QuantileTransformer\n",
    "l1 = [x for x in df_combo.columns.to_list() if x.startswith('team2_offensive_derived_var')]\n",
    "for column in l1:\n",
    "    qt9 = QuantileTransformer(output_distribution = 'normal')\n",
    "    df_combo[column] = qt9.fit_transform(df_combo[column].values.reshape(-1,1))\n"
   ]
  },
  {
   "cell_type": "code",
   "execution_count": 17,
   "id": "fdec1176",
   "metadata": {
    "execution": {
     "iopub.execute_input": "2022-06-13T04:51:18.077690Z",
     "iopub.status.busy": "2022-06-13T04:51:18.077063Z",
     "iopub.status.idle": "2022-06-13T04:51:18.490491Z",
     "shell.execute_reply": "2022-06-13T04:51:18.489766Z"
    },
    "papermill": {
     "duration": 0.42863,
     "end_time": "2022-06-13T04:51:18.492684",
     "exception": false,
     "start_time": "2022-06-13T04:51:18.064054",
     "status": "completed"
    },
    "tags": []
   },
   "outputs": [],
   "source": [
    "from sklearn.preprocessing import QuantileTransformer\n",
    "l1 = [x for x in df_combo.columns.to_list() if x.startswith('player_physical_derived_var')]\n",
    "for column in l1:\n",
    "    qt9 = QuantileTransformer(output_distribution = 'normal')\n",
    "    df_combo[column] = qt9.fit_transform(df_combo[column].values.reshape(-1,1))\n"
   ]
  },
  {
   "cell_type": "markdown",
   "id": "0b08acf1",
   "metadata": {
    "papermill": {
     "duration": 0.011251,
     "end_time": "2022-06-13T04:51:18.515466",
     "exception": false,
     "start_time": "2022-06-13T04:51:18.504215",
     "status": "completed"
    },
    "tags": []
   },
   "source": [
    "### Here we have observed that these columns have multimodal kind of distribution, even if they have continuous values.\n",
    "### So we decided to convert them to object type and then Label Encode them."
   ]
  },
  {
   "cell_type": "code",
   "execution_count": 18,
   "id": "c3e7fedb",
   "metadata": {
    "execution": {
     "iopub.execute_input": "2022-06-13T04:51:18.540746Z",
     "iopub.status.busy": "2022-06-13T04:51:18.540052Z",
     "iopub.status.idle": "2022-06-13T04:51:25.451782Z",
     "shell.execute_reply": "2022-06-13T04:51:25.450543Z"
    },
    "papermill": {
     "duration": 6.927444,
     "end_time": "2022-06-13T04:51:25.454509",
     "exception": false,
     "start_time": "2022-06-13T04:51:18.527065",
     "status": "completed"
    },
    "tags": []
   },
   "outputs": [
    {
     "name": "stderr",
     "output_type": "stream",
     "text": [
      "/opt/conda/lib/python3.7/site-packages/sklearn/preprocessing/_label.py:115: DataConversionWarning: A column-vector y was passed when a 1d array was expected. Please change the shape of y to (n_samples, ), for example using ravel().\n",
      "  y = column_or_1d(y, warn=True)\n"
     ]
    }
   ],
   "source": [
    "l1 = [x for x in df_combo.columns.to_list() if x.startswith('player_general_raw_var')]\n",
    "for column in l1:\n",
    "    df_combo[column] = df_combo[column].astype('object')\n",
    "from sklearn.preprocessing import LabelEncoder\n",
    "for column in l1:\n",
    "    lb = LabelEncoder()\n",
    "    df_combo[column] = lb.fit_transform(df_combo[column].values.reshape(-1,1))\n",
    "    \n",
    "    \n",
    "    \n",
    "l2 = [x for x in df_combo.columns.to_list() if x.startswith('player_defensive_raw_var')]\n",
    "for column in l2:\n",
    "    df_combo[column] = df_combo[column].astype('object')\n",
    "from sklearn.preprocessing import LabelEncoder\n",
    "for column in l2:\n",
    "    lb = LabelEncoder()\n",
    "    df_combo[column] = lb.fit_transform(df_combo[column].values.reshape(-1,1))\n",
    "    \n",
    "\n",
    "l3 = [x for x in df_combo.columns.to_list() if x.startswith('player_offensive_raw_var')]\n",
    "for column in l3:\n",
    "    df_combo[column] = df_combo[column].astype('object')\n",
    "from sklearn.preprocessing import LabelEncoder\n",
    "for column in l3:\n",
    "    lb = LabelEncoder()\n",
    "    df_combo[column] = lb.fit_transform(df_combo[column].values.reshape(-1,1))\n",
    "    \n",
    "    \n",
    "l4 = [x for x in df_combo.columns.to_list() if x.startswith('team1_offensive_raw_var')]\n",
    "for column in l4:\n",
    "    df_combo[column] = df_combo[column].astype('object')\n",
    "from sklearn.preprocessing import LabelEncoder\n",
    "for column in l4:\n",
    "    lb = LabelEncoder()\n",
    "    df_combo[column] = lb.fit_transform(df_combo[column].values.reshape(-1,1))\n",
    "    \n",
    "    \n",
    "l5 = [x for x in df_combo.columns.to_list() if x.startswith('team1_defensive_raw_var')]\n",
    "for column in l5:\n",
    "    df_combo[column] = df_combo[column].astype('object')\n",
    "from sklearn.preprocessing import LabelEncoder\n",
    "for column in l5:\n",
    "    lb = LabelEncoder()\n",
    "    df_combo[column] = lb.fit_transform(df_combo[column].values.reshape(-1,1))\n",
    "    \n",
    "    \n",
    "l6 = [x for x in df_combo.columns.to_list() if x.startswith('team2_offensive_raw_var')]\n",
    "for column in l6:\n",
    "    df_combo[column] = df_combo[column].astype('object')\n",
    "from sklearn.preprocessing import LabelEncoder\n",
    "for column in l6:\n",
    "    lb = LabelEncoder()\n",
    "    df_combo[column] = lb.fit_transform(df_combo[column].values.reshape(-1,1))\n",
    "    \n",
    "    \n",
    "l7 = [x for x in df_combo.columns.to_list() if x.startswith('team2_defensive_raw_var')]\n",
    "for column in l7:\n",
    "    df_combo[column] = df_combo[column].astype('object')\n",
    "from sklearn.preprocessing import LabelEncoder\n",
    "for column in l7:\n",
    "    lb = LabelEncoder()\n",
    "    df_combo[column] = lb.fit_transform(df_combo[column].values.reshape(-1,1))"
   ]
  },
  {
   "cell_type": "markdown",
   "id": "40e5f17c",
   "metadata": {
    "papermill": {
     "duration": 0.011391,
     "end_time": "2022-06-13T04:51:25.477917",
     "exception": false,
     "start_time": "2022-06-13T04:51:25.466526",
     "status": "completed"
    },
    "tags": []
   },
   "source": [
    "### This is just a standard procedure of Label Encoding the inherently 'Object' Type Columns"
   ]
  },
  {
   "cell_type": "code",
   "execution_count": 19,
   "id": "7ef013c9",
   "metadata": {
    "execution": {
     "iopub.execute_input": "2022-06-13T04:51:25.503379Z",
     "iopub.status.busy": "2022-06-13T04:51:25.502672Z",
     "iopub.status.idle": "2022-06-13T04:51:25.678894Z",
     "shell.execute_reply": "2022-06-13T04:51:25.678127Z"
    },
    "papermill": {
     "duration": 0.191377,
     "end_time": "2022-06-13T04:51:25.681120",
     "exception": false,
     "start_time": "2022-06-13T04:51:25.489743",
     "status": "completed"
    },
    "tags": []
   },
   "outputs": [],
   "source": [
    "from sklearn.preprocessing import LabelEncoder\n",
    "for column in df_combo.select_dtypes('object').columns.to_list():\n",
    "    lb = LabelEncoder()\n",
    "    df_combo[column] = lb.fit_transform(df_combo[column].values.reshape(-1,1))\n",
    "    "
   ]
  },
  {
   "cell_type": "markdown",
   "id": "b146b986",
   "metadata": {
    "papermill": {
     "duration": 0.011635,
     "end_time": "2022-06-13T04:51:25.704235",
     "exception": false,
     "start_time": "2022-06-13T04:51:25.692600",
     "status": "completed"
    },
    "tags": []
   },
   "source": [
    "### We have selected Categorical Features which we would later pass into models."
   ]
  },
  {
   "cell_type": "code",
   "execution_count": 20,
   "id": "1a92d1ff",
   "metadata": {
    "execution": {
     "iopub.execute_input": "2022-06-13T04:51:25.729430Z",
     "iopub.status.busy": "2022-06-13T04:51:25.728869Z",
     "iopub.status.idle": "2022-06-13T04:51:26.016755Z",
     "shell.execute_reply": "2022-06-13T04:51:26.015759Z"
    },
    "papermill": {
     "duration": 0.303227,
     "end_time": "2022-06-13T04:51:26.019168",
     "exception": false,
     "start_time": "2022-06-13T04:51:25.715941",
     "status": "completed"
    },
    "tags": []
   },
   "outputs": [],
   "source": [
    "cat_feature = ['scout_id','winner','team','team1_system_id','team2_system_id','competitionId','player_position_1','player_position_2']\n",
    "cat_feature = cat_feature+l1+l2+l3+l4+l5+l6+l7\n",
    "for column in cat_feature:\n",
    "    df_combo[column] = df_combo[column].astype('int64')"
   ]
  },
  {
   "cell_type": "markdown",
   "id": "db42dda1",
   "metadata": {
    "papermill": {
     "duration": 0.011373,
     "end_time": "2022-06-13T04:51:26.042604",
     "exception": false,
     "start_time": "2022-06-13T04:51:26.031231",
     "status": "completed"
    },
    "tags": []
   },
   "source": [
    "### Standard Procedure of Doing Train-Test Split"
   ]
  },
  {
   "cell_type": "code",
   "execution_count": 21,
   "id": "2a3332b7",
   "metadata": {
    "execution": {
     "iopub.execute_input": "2022-06-13T04:51:26.068204Z",
     "iopub.status.busy": "2022-06-13T04:51:26.067660Z",
     "iopub.status.idle": "2022-06-13T04:51:26.073152Z",
     "shell.execute_reply": "2022-06-13T04:51:26.072416Z"
    },
    "papermill": {
     "duration": 0.020548,
     "end_time": "2022-06-13T04:51:26.074999",
     "exception": false,
     "start_time": "2022-06-13T04:51:26.054451",
     "status": "completed"
    },
    "tags": []
   },
   "outputs": [],
   "source": [
    "train = df_combo.head(df_train.shape[0])\n",
    "test = df_combo.tail(df_test.shape[0])\n",
    "\n",
    "x = train\n",
    "y = df_train['rating_num']"
   ]
  },
  {
   "cell_type": "code",
   "execution_count": 22,
   "id": "8cc1ab7c",
   "metadata": {
    "execution": {
     "iopub.execute_input": "2022-06-13T04:51:26.100164Z",
     "iopub.status.busy": "2022-06-13T04:51:26.099582Z",
     "iopub.status.idle": "2022-06-13T04:51:26.272130Z",
     "shell.execute_reply": "2022-06-13T04:51:26.271022Z"
    },
    "papermill": {
     "duration": 0.188388,
     "end_time": "2022-06-13T04:51:26.275065",
     "exception": false,
     "start_time": "2022-06-13T04:51:26.086677",
     "status": "completed"
    },
    "tags": []
   },
   "outputs": [],
   "source": [
    "from sklearn.model_selection import train_test_split\n",
    "x_train , x_test , y_train , y_test = train_test_split(x , y , test_size=0.2 , random_state=101)"
   ]
  },
  {
   "cell_type": "markdown",
   "id": "23f6fe44",
   "metadata": {
    "papermill": {
     "duration": 0.011597,
     "end_time": "2022-06-13T04:51:26.298351",
     "exception": false,
     "start_time": "2022-06-13T04:51:26.286754",
     "status": "completed"
    },
    "tags": []
   },
   "source": [
    "# MODELLING"
   ]
  },
  {
   "cell_type": "markdown",
   "id": "f140ccb2",
   "metadata": {
    "papermill": {
     "duration": 0.011365,
     "end_time": "2022-06-13T04:51:26.321357",
     "exception": false,
     "start_time": "2022-06-13T04:51:26.309992",
     "status": "completed"
    },
    "tags": []
   },
   "source": [
    "### Checking XGBoost Model Performance"
   ]
  },
  {
   "cell_type": "code",
   "execution_count": 23,
   "id": "bd233ac7",
   "metadata": {
    "execution": {
     "iopub.execute_input": "2022-06-13T04:51:26.347079Z",
     "iopub.status.busy": "2022-06-13T04:51:26.346416Z",
     "iopub.status.idle": "2022-06-13T04:52:03.378820Z",
     "shell.execute_reply": "2022-06-13T04:52:03.377658Z"
    },
    "papermill": {
     "duration": 37.052492,
     "end_time": "2022-06-13T04:52:03.385547",
     "exception": false,
     "start_time": "2022-06-13T04:51:26.333055",
     "status": "completed"
    },
    "tags": []
   },
   "outputs": [
    {
     "name": "stdout",
     "output_type": "stream",
     "text": [
      "Training Score 0.823472492850303\n",
      "\n",
      "Test Score 0.30095915125993555\n"
     ]
    }
   ],
   "source": [
    "from xgboost import XGBRegressor\n",
    "from sklearn.metrics import r2_score\n",
    "\n",
    "xgb = XGBRegressor(n_estimators = 100)\n",
    "xgb.fit(x_train,y_train)\n",
    "\n",
    "preds_valid = xgb.predict(x_test)\n",
    "\n",
    "print('Training Score',r2_score(y_train,xgb.predict(x_train)))\n",
    "print()\n",
    "print('Test Score',r2_score(y_test,xgb.predict(x_test)))"
   ]
  },
  {
   "cell_type": "markdown",
   "id": "ebd27586",
   "metadata": {
    "papermill": {
     "duration": 0.011632,
     "end_time": "2022-06-13T04:52:03.408883",
     "exception": false,
     "start_time": "2022-06-13T04:52:03.397251",
     "status": "completed"
    },
    "tags": []
   },
   "source": [
    "### Checking LGBM Regressor Model Performance"
   ]
  },
  {
   "cell_type": "code",
   "execution_count": 24,
   "id": "af5bbc48",
   "metadata": {
    "execution": {
     "iopub.execute_input": "2022-06-13T04:52:03.434053Z",
     "iopub.status.busy": "2022-06-13T04:52:03.433678Z",
     "iopub.status.idle": "2022-06-13T04:52:14.276214Z",
     "shell.execute_reply": "2022-06-13T04:52:14.274782Z"
    },
    "papermill": {
     "duration": 10.859058,
     "end_time": "2022-06-13T04:52:14.279766",
     "exception": false,
     "start_time": "2022-06-13T04:52:03.420708",
     "status": "completed"
    },
    "tags": []
   },
   "outputs": [
    {
     "data": {
      "text/html": [
       "<style type='text/css'>\n",
       ".datatable table.frame { margin-bottom: 0; }\n",
       ".datatable table.frame thead { border-bottom: none; }\n",
       ".datatable table.frame tr.coltypes td {  color: #FFFFFF;  line-height: 6px;  padding: 0 0.5em;}\n",
       ".datatable .bool    { background: #DDDD99; }\n",
       ".datatable .object  { background: #565656; }\n",
       ".datatable .int     { background: #5D9E5D; }\n",
       ".datatable .float   { background: #4040CC; }\n",
       ".datatable .str     { background: #CC4040; }\n",
       ".datatable .time    { background: #40CC40; }\n",
       ".datatable .row_index {  background: var(--jp-border-color3);  border-right: 1px solid var(--jp-border-color0);  color: var(--jp-ui-font-color3);  font-size: 9px;}\n",
       ".datatable .frame tbody td { text-align: left; }\n",
       ".datatable .frame tr.coltypes .row_index {  background: var(--jp-border-color0);}\n",
       ".datatable th:nth-child(2) { padding-left: 12px; }\n",
       ".datatable .hellipsis {  color: var(--jp-cell-editor-border-color);}\n",
       ".datatable .vellipsis {  background: var(--jp-layout-color0);  color: var(--jp-cell-editor-border-color);}\n",
       ".datatable .na {  color: var(--jp-cell-editor-border-color);  font-size: 80%;}\n",
       ".datatable .sp {  opacity: 0.25;}\n",
       ".datatable .footer { font-size: 9px; }\n",
       ".datatable .frame_dimensions {  background: var(--jp-border-color3);  border-top: 1px solid var(--jp-border-color0);  color: var(--jp-ui-font-color3);  display: inline-block;  opacity: 0.6;  padding: 1px 10px 1px 5px;}\n",
       "</style>\n"
      ],
      "text/plain": [
       "<IPython.core.display.HTML object>"
      ]
     },
     "metadata": {},
     "output_type": "display_data"
    },
    {
     "name": "stdout",
     "output_type": "stream",
     "text": [
      "Training Score 0.6841256251840047\n",
      "\n",
      "Test Score 0.3227835028878834\n"
     ]
    }
   ],
   "source": [
    "import lightgbm as lgb\n",
    "from sklearn.metrics import r2_score\n",
    "\n",
    "lgbr = lgb.LGBMRegressor(n_estimators = 170)\n",
    "lgbr.fit(x_train,y_train)\n",
    "\n",
    "preds_valid = lgbr.predict(x_test)\n",
    "\n",
    "print('Training Score',r2_score(y_train,lgbr.predict(x_train)))\n",
    "print()\n",
    "print('Test Score',r2_score(y_test,lgbr.predict(x_test)))"
   ]
  },
  {
   "cell_type": "markdown",
   "id": "d1165ef9",
   "metadata": {
    "papermill": {
     "duration": 0.012066,
     "end_time": "2022-06-13T04:52:14.305136",
     "exception": false,
     "start_time": "2022-06-13T04:52:14.293070",
     "status": "completed"
    },
    "tags": []
   },
   "source": [
    "### Checking CatBoost Model Performance"
   ]
  },
  {
   "cell_type": "code",
   "execution_count": 25,
   "id": "b3b776e2",
   "metadata": {
    "execution": {
     "iopub.execute_input": "2022-06-13T04:52:14.331858Z",
     "iopub.status.busy": "2022-06-13T04:52:14.330726Z",
     "iopub.status.idle": "2022-06-13T04:57:11.057099Z",
     "shell.execute_reply": "2022-06-13T04:57:11.056287Z"
    },
    "papermill": {
     "duration": 296.754511,
     "end_time": "2022-06-13T04:57:11.071947",
     "exception": false,
     "start_time": "2022-06-13T04:52:14.317436",
     "status": "completed"
    },
    "scrolled": true,
    "tags": []
   },
   "outputs": [
    {
     "name": "stdout",
     "output_type": "stream",
     "text": [
      "Training Score 0.7296570243815041\n",
      "\n",
      "Test Score 0.3672298937536369\n"
     ]
    }
   ],
   "source": [
    "from catboost import CatBoostRegressor\n",
    "from sklearn.metrics import r2_score\n",
    "\n",
    "cbr = CatBoostRegressor(verbose = False , eval_metric = 'R2',cat_features=cat_feature)\n",
    "cbr.fit(x_train,y_train)\n",
    "\n",
    "preds_valid = cbr.predict(x_test)\n",
    "\n",
    "print('Training Score',r2_score(y_train,cbr.predict(x_train)))\n",
    "print()\n",
    "print('Test Score',r2_score(y_test,cbr.predict(x_test)))"
   ]
  },
  {
   "cell_type": "markdown",
   "id": "ba9b8bfa",
   "metadata": {
    "papermill": {
     "duration": 0.011792,
     "end_time": "2022-06-13T04:57:11.096875",
     "exception": false,
     "start_time": "2022-06-13T04:57:11.085083",
     "status": "completed"
    },
    "tags": []
   },
   "source": [
    "### This is the model we finally used, which is a Stacking Regressor of 'CatBoost' and 'LGBM' Regressor"
   ]
  },
  {
   "cell_type": "code",
   "execution_count": 26,
   "id": "efd6f3f6",
   "metadata": {
    "execution": {
     "iopub.execute_input": "2022-06-13T04:57:11.123274Z",
     "iopub.status.busy": "2022-06-13T04:57:11.122266Z",
     "iopub.status.idle": "2022-06-13T05:26:02.512695Z",
     "shell.execute_reply": "2022-06-13T05:26:02.511320Z"
    },
    "papermill": {
     "duration": 1731.406606,
     "end_time": "2022-06-13T05:26:02.515659",
     "exception": false,
     "start_time": "2022-06-13T04:57:11.109053",
     "status": "completed"
    },
    "scrolled": true,
    "tags": []
   },
   "outputs": [
    {
     "name": "stdout",
     "output_type": "stream",
     "text": [
      "Training Score 0.7683400181123607\n",
      "\n",
      "Test Score 0.37708974882960733\n"
     ]
    }
   ],
   "source": [
    "from sklearn.ensemble import StackingRegressor\n",
    "stk = StackingRegressor([('cbr',CatBoostRegressor(verbose = False , eval_metric = 'R2',cat_features=cat_feature)),\n",
    "                        ('lgbr',lgb.LGBMRegressor(n_estimators = 170))])\n",
    "stk.fit(x_train,y_train)\n",
    "\n",
    "preds_valid = stk.predict(x_test)\n",
    "\n",
    "print('Training Score',r2_score(y_train,stk.predict(x_train)))\n",
    "print()\n",
    "print('Test Score',r2_score(y_test,stk.predict(x_test)))"
   ]
  },
  {
   "cell_type": "markdown",
   "id": "3e9817f1",
   "metadata": {
    "papermill": {
     "duration": 0.012298,
     "end_time": "2022-06-13T05:26:02.542346",
     "exception": false,
     "start_time": "2022-06-13T05:26:02.530048",
     "status": "completed"
    },
    "tags": []
   },
   "source": [
    "# SUBMISSION FILE"
   ]
  },
  {
   "cell_type": "markdown",
   "id": "35f2e766",
   "metadata": {
    "papermill": {
     "duration": 0.012045,
     "end_time": "2022-06-13T05:26:02.566724",
     "exception": false,
     "start_time": "2022-06-13T05:26:02.554679",
     "status": "completed"
    },
    "tags": []
   },
   "source": [
    "### Making the Final Submission File"
   ]
  },
  {
   "cell_type": "code",
   "execution_count": 27,
   "id": "e8cd3b5b",
   "metadata": {
    "execution": {
     "iopub.execute_input": "2022-06-13T05:26:02.594931Z",
     "iopub.status.busy": "2022-06-13T05:26:02.594026Z",
     "iopub.status.idle": "2022-06-13T05:26:03.699367Z",
     "shell.execute_reply": "2022-06-13T05:26:03.698121Z"
    },
    "papermill": {
     "duration": 1.123122,
     "end_time": "2022-06-13T05:26:03.702766",
     "exception": false,
     "start_time": "2022-06-13T05:26:02.579644",
     "status": "completed"
    },
    "tags": []
   },
   "outputs": [
    {
     "data": {
      "text/plain": [
       "array([6, 5, 5, ..., 6, 5, 7])"
      ]
     },
     "execution_count": 27,
     "metadata": {},
     "output_type": "execute_result"
    }
   ],
   "source": [
    "preds_test = 0.0*cbr.predict(test)+0.0*lgbr.predict(test)+stk.predict(test)\n",
    "preds_test = preds_test.astype('int64')\n",
    "preds_test"
   ]
  },
  {
   "cell_type": "code",
   "execution_count": 28,
   "id": "5254fd90",
   "metadata": {
    "execution": {
     "iopub.execute_input": "2022-06-13T05:26:03.750231Z",
     "iopub.status.busy": "2022-06-13T05:26:03.748852Z",
     "iopub.status.idle": "2022-06-13T05:26:03.764192Z",
     "shell.execute_reply": "2022-06-13T05:26:03.763031Z"
    },
    "papermill": {
     "duration": 0.044909,
     "end_time": "2022-06-13T05:26:03.766783",
     "exception": false,
     "start_time": "2022-06-13T05:26:03.721874",
     "status": "completed"
    },
    "tags": []
   },
   "outputs": [
    {
     "data": {
      "text/plain": [
       "6     3157\n",
       "5     2222\n",
       "7     1949\n",
       "4      673\n",
       "8      560\n",
       "3      100\n",
       "9       72\n",
       "2       28\n",
       "1        8\n",
       "10       5\n",
       "Name: rating_num, dtype: int64"
      ]
     },
     "execution_count": 28,
     "metadata": {},
     "output_type": "execute_result"
    }
   ],
   "source": [
    "df_sub['rating_num'] = preds_test\n",
    "df_sub['rating_num'].value_counts()"
   ]
  },
  {
   "cell_type": "code",
   "execution_count": 29,
   "id": "a1def63f",
   "metadata": {
    "execution": {
     "iopub.execute_input": "2022-06-13T05:26:03.812932Z",
     "iopub.status.busy": "2022-06-13T05:26:03.812505Z",
     "iopub.status.idle": "2022-06-13T05:26:03.837139Z",
     "shell.execute_reply": "2022-06-13T05:26:03.836117Z"
    },
    "papermill": {
     "duration": 0.049776,
     "end_time": "2022-06-13T05:26:03.839773",
     "exception": false,
     "start_time": "2022-06-13T05:26:03.789997",
     "status": "completed"
    },
    "tags": []
   },
   "outputs": [],
   "source": [
    "df_sub['rating_num'] = preds_test\n",
    "df_sub.to_csv('submission.csv',index=False)"
   ]
  }
 ],
 "metadata": {
  "kernelspec": {
   "display_name": "Python 3",
   "language": "python",
   "name": "python3"
  },
  "language_info": {
   "codemirror_mode": {
    "name": "ipython",
    "version": 3
   },
   "file_extension": ".py",
   "mimetype": "text/x-python",
   "name": "python",
   "nbconvert_exporter": "python",
   "pygments_lexer": "ipython3",
   "version": "3.7.12"
  },
  "papermill": {
   "default_parameters": {},
   "duration": 2109.903666,
   "end_time": "2022-06-13T05:26:04.890139",
   "environment_variables": {},
   "exception": null,
   "input_path": "__notebook__.ipynb",
   "output_path": "__notebook__.ipynb",
   "parameters": {},
   "start_time": "2022-06-13T04:50:54.986473",
   "version": "2.3.4"
  }
 },
 "nbformat": 4,
 "nbformat_minor": 5
}
